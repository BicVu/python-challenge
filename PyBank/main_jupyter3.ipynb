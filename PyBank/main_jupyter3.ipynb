{
 "cells": [
  {
   "cell_type": "code",
   "execution_count": 1,
   "metadata": {},
   "outputs": [],
   "source": [
    "import os\n",
    "import csv\n",
    "# import numpy"
   ]
  },
  {
   "cell_type": "code",
   "execution_count": 2,
   "metadata": {},
   "outputs": [],
   "source": [
    "month_list = []\n",
    "net_list = []\n",
    "new_list = []"
   ]
  },
  {
   "cell_type": "code",
   "execution_count": 3,
   "metadata": {},
   "outputs": [],
   "source": [
    "# Navigate to the file\n",
    "csvpath = os.path.join('Resources', 'budget_data.csv')"
   ]
  },
  {
   "cell_type": "code",
   "execution_count": 10,
   "metadata": {},
   "outputs": [
    {
     "ename": "SyntaxError",
     "evalue": "invalid syntax (<ipython-input-10-3ec72fa74560>, line 50)",
     "output_type": "error",
     "traceback": [
      "\u001b[0;36m  File \u001b[0;32m\"<ipython-input-10-3ec72fa74560>\"\u001b[0;36m, line \u001b[0;32m50\u001b[0m\n\u001b[0;31m    def ave in mean(my_list):\u001b[0m\n\u001b[0m             ^\u001b[0m\n\u001b[0;31mSyntaxError\u001b[0m\u001b[0;31m:\u001b[0m invalid syntax\n"
     ]
    }
   ],
   "source": [
    "# Read in the CSV file\n",
    "with open(csvpath, newline=\"\") as csvfile:\n",
    "#     Access csv library. Read this csvfile.\n",
    "    csvreader = csv.reader(csvfile, delimiter=\",\")\n",
    "#     print(csvreader) # prints what the item is.\n",
    "    \n",
    "#     Skips header\n",
    "    csv_header = next(csvfile, None)\n",
    "    print(f\"CSV Header: {csv_header}\")\n",
    "\n",
    "#     Separate data into lists by index (columns).\n",
    "# \n",
    "    for column in csvreader:\n",
    "        month = column[0]\n",
    "        net = int(column[1]) # Remember that items in a list are strings by default.\n",
    "\n",
    "        month_list.append(month)\n",
    "        net_list.append(net)\n",
    "\n",
    "        \n",
    "# 01 - Find the total number of months included in the dataset.\n",
    "        total_months = len(month_list)\n",
    "    \n",
    "# 02 - Find the net total amount of \"Profit/Losses\" over the entire period.\n",
    "# IE find the sum of all profit/losses\n",
    "    total_profit = 0\n",
    "    for i in net_list:\n",
    "        total_profit += i # same as total_profit = total_profit + i\n",
    "\n",
    "# print(net_list)        \n",
    "# 03 - Find the greatest increase in profits (date and amount) over the entire period\n",
    "# Loop over net_list to find greatest diff\n",
    "#     change = 0\n",
    "\n",
    "#     for n in net_list:\n",
    "n = 0\n",
    "\n",
    "for n in range(85):\n",
    "#     cur = net_list[n]\n",
    "#     nxt = net_list[n + 1]\n",
    "    change = net_list[n + 1] - net_list[n]\n",
    "#     print(change)\n",
    "#     print(type(change))\n",
    "    new_list.append(change) # put changes into a list\n",
    "# print(new_list)\n",
    "\n",
    "\n",
    "\n",
    "\n",
    "def mean(my_list):\n",
    "    return round((int(sum(my_list)) / max(len(my_list), 1)), 2)\n",
    "\n",
    "print(mean(new_list))\n"
   ]
  },
  {
   "cell_type": "code",
   "execution_count": 11,
   "metadata": {},
   "outputs": [
    {
     "name": "stdout",
     "output_type": "stream",
     "text": [
      "Financial Analysis\n",
      "----------\n",
      "Total Months: 86\n",
      "Total: 38382578\n",
      "Average Change: $-2315.12\n"
     ]
    }
   ],
   "source": [
    "# Summary table\n",
    "print(\"Financial Analysis\")\n",
    "print(\"----------\")\n",
    "print(f\"Total Months: {total_months}\")\n",
    "print(f\"Total: {total_profit}\")\n",
    "print(f\"Average Change: ${mean(new_list)}\")"
   ]
  },
  {
   "cell_type": "code",
   "execution_count": null,
   "metadata": {},
   "outputs": [],
   "source": []
  },
  {
   "cell_type": "code",
   "execution_count": null,
   "metadata": {},
   "outputs": [],
   "source": []
  },
  {
   "cell_type": "code",
   "execution_count": null,
   "metadata": {},
   "outputs": [],
   "source": []
  },
  {
   "cell_type": "code",
   "execution_count": null,
   "metadata": {},
   "outputs": [],
   "source": []
  }
 ],
 "metadata": {
  "kernelspec": {
   "display_name": "Python 3",
   "language": "python",
   "name": "python3"
  },
  "language_info": {
   "codemirror_mode": {
    "name": "ipython",
    "version": 3
   },
   "file_extension": ".py",
   "mimetype": "text/x-python",
   "name": "python",
   "nbconvert_exporter": "python",
   "pygments_lexer": "ipython3",
   "version": "3.7.1"
  }
 },
 "nbformat": 4,
 "nbformat_minor": 2
}
