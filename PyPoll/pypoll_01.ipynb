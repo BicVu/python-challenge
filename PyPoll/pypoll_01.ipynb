{
 "cells": [
  {
   "cell_type": "code",
   "execution_count": 59,
   "metadata": {},
   "outputs": [],
   "source": [
    "import os\n",
    "import csv\n",
    "import numpy"
   ]
  },
  {
   "cell_type": "code",
   "execution_count": 60,
   "metadata": {},
   "outputs": [],
   "source": [
    "# Navigate to the file\n",
    "election_data_csv = os.path.join('Resources', 'election_data.csv')"
   ]
  },
  {
   "cell_type": "code",
   "execution_count": 61,
   "metadata": {},
   "outputs": [],
   "source": [
    "election_list = []\n",
    "voter_list = []\n",
    "candidate_list = []\n",
    "candidate_sorted = []\n",
    "unique_candidate = []"
   ]
  },
  {
   "cell_type": "code",
   "execution_count": 62,
   "metadata": {},
   "outputs": [
    {
     "name": "stdout",
     "output_type": "stream",
     "text": [
      "Header: Voter ID,County,Candidate\n",
      "\n",
      "['Correy', 'Correy', 'Correy', 'Correy', 'Correy', 'Correy', 'Correy', 'Correy', 'Correy', 'Correy', 'Correy', 'Correy', 'Correy', 'Correy', 'Correy', 'Correy', 'Correy', 'Correy', 'Correy', 'Correy']\n"
     ]
    }
   ],
   "source": [
    "# Read the csv\n",
    "with open(election_data_csv, newline=\"\") as csvfile:\n",
    "    # Access csv library. Read this csvfile.\n",
    "    csvreader = csv.reader(csvfile, delimiter=\",\")\n",
    "\n",
    "    # Skips header\n",
    "    csv_header = next(csvfile, None)\n",
    "    # prints header\n",
    "    print(f\"Header: {csv_header}\")\n",
    "    \n",
    "#     election_list = list(csvreader) # list of lists\n",
    "\n",
    "# -----\n",
    "    for column in csvreader:\n",
    "        voter_id = int(column[0])\n",
    "        county = column[1] # Remember that items in a list are strings by default.\n",
    "        candidate = column[2]\n",
    "        \n",
    "        voter_list.append(voter_id)\n",
    "        candidate_list.append(candidate)\n",
    "        \n",
    "    candidate_sorted = candidate_list.sort()\n",
    "    \n",
    "# print(candidate_list.unique())\n",
    "    \n",
    "#     for x in candidate_sorted:\n",
    "#         if position is not None:\n",
    "#             if candidate_sorted[x] != candidate_sorted[x + 1]:\n",
    "#                 unique_candidate = unique_candidate.append(x)\n",
    "#         else:\n",
    "#             print(\"WTF\")\n",
    "# -----\n",
    "        \n",
    "        \n",
    "#     output = []\n",
    "#     for x in trends:\n",
    "#         if x not in output:\n",
    "#             output.append(x)\n",
    "#     print output\n",
    "\n",
    "        \n",
    "#     def unique(csvreader):\n",
    "#     candidate_list = []\n",
    "#     for x in election_list:\n",
    "#         if x not in candidate_list: \n",
    "#             candidate_list.append(x)\n",
    "            \n",
    "#     for x in candidate_list: \n",
    "#         print(x)\n",
    "        \n",
    "print(candidate_list[:20])\n",
    "# print(candidate_sorted[:10])\n",
    "    \n",
    "#     print(election_list[:5])\n",
    "#     print(voter_list[:5])\n"
   ]
  },
  {
   "cell_type": "code",
   "execution_count": 63,
   "metadata": {},
   "outputs": [
    {
     "name": "stdout",
     "output_type": "stream",
     "text": [
      "3521001\n"
     ]
    }
   ],
   "source": [
    "vote_count = len(voter_list)\n",
    "print(vote_count)"
   ]
  },
  {
   "cell_type": "code",
   "execution_count": 64,
   "metadata": {},
   "outputs": [
    {
     "name": "stdout",
     "output_type": "stream",
     "text": [
      "{'Li', \"O'Tooley\", 'Khan', 'Correy'}\n",
      "4\n"
     ]
    }
   ],
   "source": [
    "unique_candidate = set(candidate_list)\n",
    "print(unique_candidate)\n",
    "candidate_count = len(unique_candidate)\n",
    "print(candidate_count)"
   ]
  },
  {
   "cell_type": "code",
   "execution_count": 65,
   "metadata": {},
   "outputs": [],
   "source": [
    "# count votes by candidates\n",
    "# counter = 0\n",
    "# for n in candidate_sorted:\n",
    "#     if candidate_sorted[n] != candidate_sorted[n+1]:\n",
    "#         counter = counter + 1\n",
    "\n",
    "#     if number % 2 == 1:\n",
    "#         continue\n",
    "\n",
    "#     print(number)\n"
   ]
  },
  {
   "cell_type": "code",
   "execution_count": 66,
   "metadata": {},
   "outputs": [
    {
     "name": "stdout",
     "output_type": "stream",
     "text": [
      "{'Correy': 704200, 'Khan': 2218231, 'Li': 492940, \"O'Tooley\": 105630}\n"
     ]
    }
   ],
   "source": [
    "def gethings(lVals):\n",
    "    d = dict(zip(lVals, [0] * len(lVals)))\n",
    "    for x in lVals:\n",
    "        d[x] += 1\n",
    "    return d\n",
    "counted = gethings(candidate_list)\n",
    "print(counted)"
   ]
  },
  {
   "cell_type": "code",
   "execution_count": 67,
   "metadata": {},
   "outputs": [],
   "source": [
    "correy_percent = round((counted['Correy']*100)/vote_count, 3)\n",
    "khan_percent = round((counted['Khan']*100)/vote_count, 3)\n",
    "li_percent = round((counted['Li']*100)/vote_count, 3)\n",
    "otooley_percent = round((counted['O\\'Tooley']*100)/vote_count, 3)"
   ]
  },
  {
   "cell_type": "code",
   "execution_count": 85,
   "metadata": {},
   "outputs": [
    {
     "name": "stdout",
     "output_type": "stream",
     "text": [
      "Election Results\n",
      "----------\n",
      "Total Votes: 3521001\n",
      "Correy: 20.0% (704200)\n",
      "Khan: 63.0% (2218231)\n",
      "Li: 14.0% (492940)\n",
      "O'Tooley:3.0% 105630\n",
      "----------\n",
      "Winner: Khan\n",
      "----------\n"
     ]
    }
   ],
   "source": [
    "# 01 - Find the total number of votes cast\n",
    "print(\"Election Results\")\n",
    "print(\"----------\")\n",
    "print(f\"Total Votes: {vote_count}\")\n",
    "print(f\"Correy: {correy_percent}% ({counted['Correy']})\")\n",
    "print(f\"Khan: {khan_percent}% ({counted['Khan']})\")\n",
    "print(f\"Li: {li_percent}% ({counted['Li']})\")\n",
    "print(\"O'Tooley:\" + str(otooley_percent) + \"% \" + str(counted[\"O\\'Tooley\"]))\n",
    "print(\"----------\")\n",
    "print(\"Winner: Khan\")\n",
    "# print(f\"Winner: {counted.max()}\")\n",
    "# STILL NEED TO FIND WINNER\n",
    "print(\"----------\")"
   ]
  },
  {
   "cell_type": "code",
   "execution_count": null,
   "metadata": {},
   "outputs": [],
   "source": []
  }
 ],
 "metadata": {
  "kernelspec": {
   "display_name": "Python 3",
   "language": "python",
   "name": "python3"
  },
  "language_info": {
   "codemirror_mode": {
    "name": "ipython",
    "version": 3
   },
   "file_extension": ".py",
   "mimetype": "text/x-python",
   "name": "python",
   "nbconvert_exporter": "python",
   "pygments_lexer": "ipython3",
   "version": "3.7.1"
  }
 },
 "nbformat": 4,
 "nbformat_minor": 2
}
